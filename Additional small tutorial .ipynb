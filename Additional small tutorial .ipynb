{
 "cells": [
  {
   "cell_type": "markdown",
   "id": "e4e01f10",
   "metadata": {},
   "source": [
    "[本部分的官方代码地址](https://colab.research.google.com/drive/1V0CutSIfmtgDJg1XIkEnGteJuw0u7qT-#scrollTo=h1KXYz-Nauwn)：https://colab.research.google.com/drive/1V0CutSIfmtgDJg1XIkEnGteJuw0u7qT-#scrollTo=h1KXYz-Nauwn\n",
    "\n",
    "\n",
    "这一部分主要介绍的是如何使用vxm库里的方法对图像进行变换，代码中的方法是随机生成一个矩阵，然后根据该矩阵对图像进行仿射变换。\n",
    "\n",
    "\n",
    "**环境要求：tensorflow2.4,VoxelMorph**"
   ]
  },
  {
   "cell_type": "markdown",
   "id": "1a689dbf",
   "metadata": {},
   "source": [
    "## 1. Import Module 库的导入"
   ]
  },
  {
   "cell_type": "code",
   "execution_count": null,
   "id": "d62a0f6e",
   "metadata": {
    "scrolled": true
   },
   "outputs": [],
   "source": [
    "!pip install voxelmorph\n",
    "import voxelmorph as vxm\n",
    "import tensorflow as tf\n",
    "import numpy as np\n",
    "import matplotlib.pyplot as plt"
   ]
  },
  {
   "cell_type": "markdown",
   "id": "2b5d45d7",
   "metadata": {},
   "source": [
    "## 2. Input and pre-process of the Image 图像的输入与预处理：\n",
    "\n",
    "教程中使用的是mnist的数据集，数据集的预处理步骤包括:\n",
    "\n",
    "- 对原始图像进行边缘填充\n",
    "- 灰度归一化（具体作用参考：https://blog.csdn.net/qq_41383956/article/details/88593538） "
   ]
  },
  {
   "cell_type": "code",
   "execution_count": null,
   "id": "f990d82b",
   "metadata": {
    "scrolled": true
   },
   "outputs": [],
   "source": [
    "# 加载mnist数据集\n",
    "# 其标准输出应为： (x_train, y_train), (x_test, y_test)，但是只需要x_train数据展示，所以其他的丢掉\n",
    "(x_train,_),_ = tf.keras.datasets.mnist.load_data()\n",
    "# 灰度归一化，从0-255压缩到0-1\n",
    "im = x_train[0,...].astype('float')/255\n",
    "# 边缘填充\n",
    "# 这一步的目的是，在后面对图像进行变换时，原本的Mnist数据集的28*28在变换后，\n",
    "# 数字可能会移出图像区域，所以扩大原始数据的大小，也就是空白部分，方便展示变换的效果。\n",
    "# pad_amt设置为10，及补充的区域为10个pixel\n",
    "pad_amt = 10\n",
    "# np.pad(需要填充的array，((上，下),(左，右))，mode=constant...),这一步是为了增加边缘，可以理解为padding\n",
    "# 原始数据28*28，填补大小，上下左右各10，处理后数据48*48\n",
    "im = np.pad(im,((pad_amt,pad_amt),(pad_amt,pad_amt)))"
   ]
  },
  {
   "cell_type": "markdown",
   "id": "d12c02a4",
   "metadata": {},
   "source": [
    "![bofore](./Image/5-before-pre-process.png)\n",
    "![after](./Image/5-after-pre-process.png)"
   ]
  },
  {
   "cell_type": "markdown",
   "id": "fe335405",
   "metadata": {},
   "source": [
    "## 3. Create transformation matrix manually 手动创建变换矩阵："
   ]
  },
  {
   "cell_type": "code",
   "execution_count": null,
   "id": "b6db1211",
   "metadata": {},
   "outputs": [],
   "source": [
    "# 手动生成仿射变换矩阵，方便后面affine操作\n",
    "\n",
    "# 创建主对角矩阵\n",
    "aff = np.eye(3) \n",
    " # 在左上半部分的2*2区域加入随机噪声\n",
    "aff[:2,:2]+=np.random.randn(2,2)*0.1\n",
    "# 前两行的第三列的内容使用(-10,10)之间的均匀随机采样数字来替换\n",
    "#  np.random.uniform(low,high,size)，使用(2,)的原因是aff[:2,2]数组就是一个两行一列的值\n",
    "aff[:2, 2] = np.random.uniform(-10, 10, (2, ))\n",
    "# 对上面计算后的矩阵求逆\n",
    "aff_inv = np.linalg.inv(aff)\n",
    "\n",
    "# 手动生成annotation变换矩阵，方便后面warp操作\n",
    "margin=10\n",
    "nb_annotations = 5\n",
    " # 创建一个列表，其中包含两个annotations，每个中包含nb_annotations个随机数字，范围在(margin,f-margin)之间\n",
    "annotations = [np.random.uniform(margin,f-margin,nb_annotations) for f in im.shape]\n",
    "# np.stack的简单用法在我的notion中有说明：\n",
    "# https://sandy-property-d5e.notion.site/np-stack-48a69e31be084aa98cd15ce7d093c2ec\n",
    "annotations = np.stack(annotations,1)"
   ]
  },
  {
   "cell_type": "markdown",
   "id": "e48f74c3",
   "metadata": {},
   "source": [
    "处理后的数据分别为：\n",
    "aff_inv:\n",
    "$$ \\begin{bmatrix}\n",
    "  1.01& -3.137 & -7.602\\\\\n",
    "  5.857&  8.561& 3.138\\\\\n",
    "  0& 0 &1\n",
    "\\end{bmatrix}$$\n",
    "annotations:\n",
    "$$\n",
    "\\begin{bmatrix}\n",
    " 23.46& -3.3\\\\\n",
    "  2.34&7.33 \\\\\n",
    "  6.42& 14.34\\\\\n",
    "  5.32& 37.34\\\\\n",
    "  7.14&17.34\n",
    "\\end{bmatrix}\n",
    "$$"
   ]
  },
  {
   "cell_type": "markdown",
   "id": "02aca80a",
   "metadata": {},
   "source": [
    "## 4. Warp Data"
   ]
  },
  {
   "cell_type": "code",
   "execution_count": null,
   "id": "10ce3e21",
   "metadata": {},
   "outputs": [],
   "source": [
    "# np.newaxis 的功能是增加新的维度。放在第一个，给行上增加维度，放在最后一个，给列上增加维度\n",
    "im_keras = im[np.newaxis,...,np.newaxis] # (1, 48, 48, 1)\n",
    "aff_keras = aff[np.newaxis,:2,:] #(1, 2, 3)\n",
    "annotations_keras = annotations[np.newaxis,...] # (1,5,2)\n",
    "\n",
    "# warp image\n",
    "# 调用vxm库里的SpatialTransformer类，([im_keras, aff_keras])放在后面是什么用法暂时还没搞懂\n",
    "# ([im_keras, aff_keras])分别代表的是图像数据和形变数据，通过空间变换将形变数据作用到图像数据中\n",
    "im_warped = vxm.layers.SpatialTransformer()([im_keras, aff_keras])\n",
    "im_warped = im_warped[0, ..., 0] # 取im_warped中的第0行第0列\n",
    "\n",
    "# 获取取逆操作后的仿射矩阵的密集场Dense field\n",
    "# 此处的affine_to_dense_shift和官方的教程不同，因为新版的vxm已经更新为此方法，此处已通过Issue询问过开发者\n",
    "# vxm.utils.affine_to_dense_shift(array,shape,shift_center=True)\n",
    "# 最后[np.newaxis, ...]的作用等价于field_inv = field_inv[np.newaxis, ...]，即给输出的结果的第一个位置增加一个维度\n",
    "field_inv = vxm.utils.affine_to_dense_shift(aff_inv[:-1,:], im.shape, shift_center=True)[np.newaxis, ...]\n",
    "\n",
    "# warp annotations\n",
    "# 我的理解是：annotation是一些随机生成的点，在变换前后的图像中都是存在的\n",
    "# 其作用是，帮助更明显的看出图像变化的方向和形式（涉及形变、整体移动的方向等信息）\n",
    "# data为长度为2的列表，存储的分别是annotations_keras, field_inv，且两个都被转换为tf.Tensor形式，用于输入到vxm.utils.point_spatial_transformer中\n",
    "data = [tf.convert_to_tensor(f, dtype=tf.float32) for f in [annotations_keras, field_inv]]\n",
    "# 将辅助点和形变场都放入 vxm.utils.point_spatial_transformer，获取辅助点在该形变场下的变换信息\n",
    "# [0,...]：从[1,5,2]中获取第0维度的信息=>[5,2]\n",
    "annotations_warped = vxm.utils.point_spatial_transformer(data)[0, ...].numpy()"
   ]
  },
  {
   "cell_type": "markdown",
   "id": "7b8a0b95",
   "metadata": {},
   "source": [
    "## 5.Show result 展示结果"
   ]
  },
  {
   "cell_type": "code",
   "execution_count": null,
   "id": "7ac69c48",
   "metadata": {},
   "outputs": [],
   "source": [
    "plt.figure()\n",
    "# 分别展示初始的图像和生成的辅助点\n",
    "plt.subplot(1, 2, 1)\n",
    "plt.imshow(im, cmap='gray')\n",
    "plt.plot(*[annotations[:, f] for f in [1, 0]], 'o')  \n",
    "plt.axis('off')\n",
    "\n",
    "# 分别展示变换后的图像和变换后的辅助点\n",
    "plt.subplot(1, 2, 2)\n",
    "plt.imshow(im_warped, cmap='gray')\n",
    "plt.plot(*[annotations_warped[:, f] for f in [1, 0]], 'o')\n",
    "plt.axis('off');"
   ]
  },
  {
   "cell_type": "markdown",
   "id": "6441c29e",
   "metadata": {},
   "source": [
    "![result](./Image/result-of-affine.png)"
   ]
  },
  {
   "cell_type": "code",
   "execution_count": null,
   "id": "b6bd48b2",
   "metadata": {},
   "outputs": [],
   "source": []
  }
 ],
 "metadata": {
  "kernelspec": {
   "display_name": "Python 3 (ipykernel)",
   "language": "python",
   "name": "python3"
  },
  "language_info": {
   "codemirror_mode": {
    "name": "ipython",
    "version": 3
   },
   "file_extension": ".py",
   "mimetype": "text/x-python",
   "name": "python",
   "nbconvert_exporter": "python",
   "pygments_lexer": "ipython3",
   "version": "3.9.12"
  }
 },
 "nbformat": 4,
 "nbformat_minor": 5
}
